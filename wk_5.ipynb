{
 "cells": [
  {
   "cell_type": "code",
   "execution_count": 6,
   "metadata": {},
   "outputs": [
    {
     "data": {
      "text/plain": [
       "<bound method NDFrame.head of      0       1\n",
       "0  NaN   votes\n",
       "1  0.0  Remain\n",
       "2  1.0  Remain\n",
       "3  2.0  Remain\n",
       "4  3.0  Remain>"
      ]
     },
     "execution_count": 6,
     "metadata": {},
     "output_type": "execute_result"
    }
   ],
   "source": [
    "import pandas as pd\n",
    "import matplotlib.pyplot as plt\n",
    "import numpy as np\n",
    "\n",
    "brexitDF = pd.read_csv('brexit.csv', header=None, nrows=5)\n",
    "socialDF = pd.read_csv('social_media.csv', header=None, nrows=5)\n",
    "socialTestDF = pd.read_csv('test_survey_social_media.csv', header=None, nrows=5)\n",
    "\n",
    "brexitDF.head"
   ]
  },
  {
   "cell_type": "code",
   "execution_count": 7,
   "metadata": {},
   "outputs": [
    {
     "data": {
      "text/plain": [
       "<bound method NDFrame.head of      0         1       2\n",
       "0  NaN  fav_site  gender\n",
       "1  0.0  WhatsApp  female\n",
       "2  1.0  WhatsApp  female\n",
       "3  2.0  WhatsApp  female\n",
       "4  3.0  WhatsApp  female>"
      ]
     },
     "execution_count": 7,
     "metadata": {},
     "output_type": "execute_result"
    }
   ],
   "source": [
    "socialDF.head"
   ]
  },
  {
   "cell_type": "code",
   "execution_count": 8,
   "metadata": {},
   "outputs": [
    {
     "data": {
      "text/plain": [
       "<bound method NDFrame.head of                             0       1  \\\n",
       "0                   Timestamp  Gender   \n",
       "1  2017/11/01 10:15:37 am GMT  female   \n",
       "2  2017/11/02 08:42:15 pm GMT    male   \n",
       "3  2017/11/02 10:21:07 pm GMT  female   \n",
       "4  2017/11/03 09:22:16 am GMT   other   \n",
       "\n",
       "                                                   2  \\\n",
       "0  Rate your general level of happines over the p...   \n",
       "1                                                  3   \n",
       "2                                                  2   \n",
       "3                                                  5   \n",
       "4                                                  4   \n",
       "\n",
       "                                            3  \\\n",
       "0  Which is your favourite social media site?   \n",
       "1                                    Facebook   \n",
       "2                                   Instagram   \n",
       "3                                    WhatsApp   \n",
       "4                                    WhatsApp   \n",
       "\n",
       "                                            4  \n",
       "0  Which social media sites do you use daily?  \n",
       "1                                    Facebook  \n",
       "2                          WhatsApp;Instagram  \n",
       "3                   Twitter;WhatsApp;SnapChat  \n",
       "4                            WhatsApp;YouTube  >"
      ]
     },
     "execution_count": 8,
     "metadata": {},
     "output_type": "execute_result"
    }
   ],
   "source": [
    "socialTestDF.head"
   ]
  }
 ],
 "metadata": {
  "kernelspec": {
   "display_name": "Python 3",
   "language": "python",
   "name": "python3"
  },
  "language_info": {
   "codemirror_mode": {
    "name": "ipython",
    "version": 3
   },
   "file_extension": ".py",
   "mimetype": "text/x-python",
   "name": "python",
   "nbconvert_exporter": "python",
   "pygments_lexer": "ipython3",
   "version": "3.6.3"
  }
 },
 "nbformat": 4,
 "nbformat_minor": 2
}
